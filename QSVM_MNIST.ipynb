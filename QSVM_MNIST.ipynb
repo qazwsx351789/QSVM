{
  "nbformat": 4,
  "nbformat_minor": 0,
  "metadata": {
    "colab": {
      "provenance": [],
      "authorship_tag": "ABX9TyNJVOkQfU4D6yyDRVbZuARw",
      "include_colab_link": true
    },
    "kernelspec": {
      "name": "python3",
      "display_name": "Python 3"
    },
    "language_info": {
      "name": "python"
    }
  },
  "cells": [
    {
      "cell_type": "markdown",
      "metadata": {
        "id": "view-in-github",
        "colab_type": "text"
      },
      "source": [
        "<a href=\"https://colab.research.google.com/github/qazwsx351789/QSVM/blob/main/QSVM_MNIST.ipynb\" target=\"_parent\"><img src=\"https://colab.research.google.com/assets/colab-badge.svg\" alt=\"Open In Colab\"/></a>"
      ]
    },
    {
      "cell_type": "markdown",
      "source": [
        "# Import"
      ],
      "metadata": {
        "id": "CHB5_xwTOxFA"
      }
    },
    {
      "cell_type": "code",
      "source": [
        "!pip install qutip"
      ],
      "metadata": {
        "colab": {
          "base_uri": "https://localhost:8080/"
        },
        "id": "bVOJgL_KOmbh",
        "outputId": "851aaa54-6f48-4999-b421-f1d7bc972aba"
      },
      "execution_count": 3,
      "outputs": [
        {
          "output_type": "stream",
          "name": "stdout",
          "text": [
            "Collecting qutip\n",
            "  Downloading qutip-4.7.5-cp310-cp310-manylinux_2_17_x86_64.manylinux2014_x86_64.whl (16.3 MB)\n",
            "\u001b[2K     \u001b[90m━━━━━━━━━━━━━━━━━━━━━━━━━━━━━━━━━━━━━━━━\u001b[0m \u001b[32m16.3/16.3 MB\u001b[0m \u001b[31m59.6 MB/s\u001b[0m eta \u001b[36m0:00:00\u001b[0m\n",
            "\u001b[?25hRequirement already satisfied: numpy>=1.16.6 in /usr/local/lib/python3.10/dist-packages (from qutip) (1.25.2)\n",
            "Requirement already satisfied: scipy>=1.0 in /usr/local/lib/python3.10/dist-packages (from qutip) (1.11.4)\n",
            "Requirement already satisfied: packaging in /usr/local/lib/python3.10/dist-packages (from qutip) (24.0)\n",
            "Installing collected packages: qutip\n",
            "Successfully installed qutip-4.7.5\n"
          ]
        }
      ]
    },
    {
      "cell_type": "code",
      "source": [
        "import numpy as np\n",
        "import matplotlib.pyplot as plt\n",
        "from matplotlib import cm\n",
        "\n",
        "# Scikit Imports\n",
        "from sklearn import datasets\n",
        "from sklearn.model_selection import train_test_split\n",
        "from sklearn.svm import SVR\n",
        "from sklearn.decomposition import PCA\n",
        "from sklearn.preprocessing import StandardScaler, MinMaxScaler\n",
        "from sklearn.model_selection import GridSearchCV,RandomizedSearchCV\n",
        "from sklearn.metrics import mean_squared_error as mse\n",
        "\n",
        "from qutip import expect , Qobj\n",
        "import qutip\n",
        "import pandas as pd\n",
        "import math"
      ],
      "metadata": {
        "colab": {
          "base_uri": "https://localhost:8080/"
        },
        "id": "ITVInEJ9Op1t",
        "outputId": "ea9671e0-a574-45c3-9b12-e8a65f10c216"
      },
      "execution_count": 4,
      "outputs": [
        {
          "output_type": "stream",
          "name": "stderr",
          "text": [
            "/usr/local/lib/python3.10/dist-packages/qutip/__init__.py:66: UserWarning: The new version of Cython, (>= 3.0.0) is not supported.\n",
            "  warnings.warn(\n"
          ]
        }
      ]
    },
    {
      "cell_type": "code",
      "source": [
        "import qutip\n",
        "from qutip import Qobj,basis\n",
        "from qutip import sigmax , sigmaz , sigmay\n",
        "import qutip\n",
        "import math\n",
        "from qutip.metrics import fidelity\n",
        "import math\n",
        "import numpy as np\n",
        "import matplotlib.pyplot as plt\n",
        "from qutip import tensor"
      ],
      "metadata": {
        "id": "mOZ46uVmO5LG"
      },
      "execution_count": 5,
      "outputs": []
    },
    {
      "cell_type": "markdown",
      "source": [
        "Connect to your goole drive."
      ],
      "metadata": {
        "id": "6Sc3ChUVP93c"
      }
    },
    {
      "cell_type": "markdown",
      "source": [
        "# Prepare MNIST data"
      ],
      "metadata": {
        "id": "moDuWxeQQcxI"
      }
    },
    {
      "cell_type": "code",
      "source": [
        "from google.colab import drive\n",
        "drive.mount('/content/drive')"
      ],
      "metadata": {
        "colab": {
          "base_uri": "https://localhost:8080/"
        },
        "id": "xB18fun6P1bw",
        "outputId": "27fd8b1f-c8dc-4c05-88fd-c61ddafdf6b4"
      },
      "execution_count": 6,
      "outputs": [
        {
          "output_type": "stream",
          "name": "stdout",
          "text": [
            "Mounted at /content/drive\n"
          ]
        }
      ]
    },
    {
      "cell_type": "code",
      "source": [
        "# Show matplotlib graphs in your notebook\n",
        "%matplotlib inline"
      ],
      "metadata": {
        "id": "XeUT430JQDrd"
      },
      "execution_count": 7,
      "outputs": []
    },
    {
      "cell_type": "code",
      "source": [
        "from scipy.io import loadmat\n",
        "mnist = loadmat('/content/drive/MyDrive/QSVM/mnist.mat') # change the file path according to the path where you put mnist.mat on your Google Drive.\n",
        "traindata = mnist['traindata'][:50000]\n",
        "trainlabels = mnist['trainlabels'].ravel()[:50000]\n",
        "validdata = mnist['traindata'][50000:]\n",
        "validlabels = mnist['trainlabels'].ravel()[50000:]\n",
        "testdata = mnist['testdata']\n",
        "\n",
        "print(traindata.shape)\n",
        "print(trainlabels.shape)\n",
        "print(validdata.shape)\n",
        "print(validlabels.shape)\n",
        "print(testdata.shape)"
      ],
      "metadata": {
        "colab": {
          "base_uri": "https://localhost:8080/"
        },
        "id": "X8nU0aUoQMVV",
        "outputId": "60b6f0d8-aa97-484f-d126-c4f862d76f9f"
      },
      "execution_count": 9,
      "outputs": [
        {
          "output_type": "stream",
          "name": "stdout",
          "text": [
            "(50000, 784)\n",
            "(50000,)\n",
            "(10000, 784)\n",
            "(10000,)\n",
            "(10000, 784)\n"
          ]
        }
      ]
    },
    {
      "cell_type": "markdown",
      "source": [
        "Visulize the images and labels"
      ],
      "metadata": {
        "id": "seRR-efRUCCD"
      }
    },
    {
      "cell_type": "code",
      "source": [
        "\n",
        "fig, axs = plt.subplots(5, 5, figsize = (12, 12))\n",
        "plt.gray()\n",
        "\n",
        "# loop through subplots and add mnist images\n",
        "for i, ax in enumerate(axs.flat):\n",
        "  ax.imshow(traindata[i].reshape((28, 28)), cmap=cm.gray_r)\n",
        "  ax.axis('off')\n",
        "  ax.set_title('Number {}'.format(trainlabels[i]))"
      ],
      "metadata": {
        "colab": {
          "base_uri": "https://localhost:8080/",
          "height": 983
        },
        "id": "ThhrkOIeQrR0",
        "outputId": "afb9cf76-f93d-4d5a-f5ef-fd1552d0e239"
      },
      "execution_count": 10,
      "outputs": [
        {
          "output_type": "display_data",
          "data": {
            "text/plain": [
              "<Figure size 1200x1200 with 25 Axes>"
            ],
            "image/png": "[encoded data removed]"
          },
          "metadata": {}
        }
      ]
    },
    {
      "cell_type": "markdown",
      "source": [
        "## PCA"
      ],
      "metadata": {
        "id": "DDUmoWyhZdVJ"
      }
    },
    {
      "cell_type": "code",
      "source": [
        "from numpy import linalg as LA\n",
        "from sklearn.preprocessing import StandardScaler\n",
        "#step1\n",
        "scaler = StandardScaler()\n",
        "train = scaler.fit_transform(traindata)\n",
        "valid = scaler.fit_transform(validdata)\n",
        "test = scaler.fit_transform(testdata)\n",
        "\n",
        "#step2\n",
        "cov_train = np.cov(train.T)\n",
        "\n",
        "#step3\n",
        "eig_vals, eig_vecs = LA.eig(cov_train)\n",
        "\n",
        "#step4\n",
        "sort_indices = np.argsort(eig_vals)[::-1]\n",
        "eig_vals = eig_vals[sort_indices]\n",
        "eig_vecs = eig_vecs[:, sort_indices]\n",
        "\n",
        "#step5\n",
        "k = 12 ## The number of features after PCA\n",
        "eig_vec = eig_vecs[:, :k]\n",
        "\n",
        "\n",
        "#step6\n",
        "train_pca = np.dot(train, eig_vec)\n",
        "valid_pca = np.dot(valid, eig_vec)\n",
        "test_pca = np.dot(test, eig_vec)\n",
        "\n"
      ],
      "metadata": {
        "id": "4olLsjy-UGK9"
      },
      "execution_count": 36,
      "outputs": []
    },
    {
      "cell_type": "markdown",
      "source": [
        "### approach 2"
      ],
      "metadata": {
        "id": "ujlYEXOYZhlz"
      }
    },
    {
      "cell_type": "code",
      "source": [
        "# pca_on = True\n",
        "# PCA_n = 12\n",
        "# if pca_on :\n",
        "#   color = np.array([1,1,0,1])\n",
        "#   pca = PCA(n_components=PCA_n)\n",
        "#   pca.fit(train)\n",
        "#   train_pca = pca.transform(train)\n",
        "#   valid_pca = pca.transform(test)\n",
        "#   print(train_pca.shape , valid_pca.shape)"
      ],
      "metadata": {
        "id": "irPj1TVWVCdy"
      },
      "execution_count": 37,
      "outputs": []
    }
  ]
}